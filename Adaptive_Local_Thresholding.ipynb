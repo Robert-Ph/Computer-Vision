{
  "nbformat": 4,
  "nbformat_minor": 0,
  "metadata": {
    "colab": {
      "provenance": [],
      "mount_file_id": "1U6VM2IlxywNJGADtdX0e08D_Z_j9Djp1",
      "authorship_tag": "ABX9TyM0X3HqNG8hkU3M+V7uSO4R",
      "include_colab_link": true
    },
    "kernelspec": {
      "name": "python3",
      "display_name": "Python 3"
    },
    "language_info": {
      "name": "python"
    }
  },
  "cells": [
    {
      "cell_type": "markdown",
      "metadata": {
        "id": "view-in-github",
        "colab_type": "text"
      },
      "source": [
        "<a href=\"https://colab.research.google.com/github/Robert-Ph/Computer-Vision/blob/main/Adaptive_Local_Thresholding.ipynb\" target=\"_parent\"><img src=\"https://colab.research.google.com/assets/colab-badge.svg\" alt=\"Open In Colab\"/></a>"
      ]
    },
    {
      "cell_type": "code",
      "execution_count": 1,
      "metadata": {
        "id": "gm6crKI075kb"
      },
      "outputs": [],
      "source": [
        "import cv2 as cv\n",
        "import numpy as np\n",
        "from google.colab.patches import cv2_imshow"
      ]
    },
    {
      "cell_type": "code",
      "source": [
        "def AdaptiveLocalThresholding(img_gray, a, b, size):\n",
        "  print(type(img_gray))\n",
        "  avg = np.mean(img_gray)\n",
        "  pad = size // 2\n",
        "  row, col = img_gray.shape\n",
        "  img_padding = np.pad(img_gray, pad)\n",
        "  out = img_gray\n",
        "  for i in range(row):\n",
        "    for j in range(col):\n",
        "        S = img_padding[i: i + size, j: j + size]\n",
        "        G_avg = np.mean(S)\n",
        "        std_deviation = np.std(S)\n",
        "\n",
        "        T = a*std_deviation + b*avg\n",
        "        if out[i][j] > T:\n",
        "          out[i][j] = 255\n",
        "        else:\n",
        "          out[i][j] = 0\n",
        "  return out\n"
      ],
      "metadata": {
        "id": "3o1mpBJ3_8oP"
      },
      "execution_count": 64,
      "outputs": []
    },
    {
      "cell_type": "code",
      "source": [
        "file = '/content/Screenshot 2024-05-25 161837.png'\n",
        "img = cv.imread(file, 0)\n",
        "a = 5\n",
        "b =1\n",
        "size =3\n",
        "print(type(img))\n",
        "print(\"Ảnh Gốc\")\n",
        "cv2_imshow(img)\n",
        "\n",
        "out = AdaptiveLocalThresholding(img, a, b, size)\n",
        "print()\n",
        "print(\"Ảnh Phân Đoạn theo ngưỡng thích nghi\")\n",
        "cv2_imshow(out)"
      ],
      "metadata": {
        "colab": {
          "base_uri": "https://localhost:8080/",
          "height": 430
        },
        "id": "UuUYcXDNCsa_",
        "outputId": "b3288749-ffb8-47ab-f2f5-b8d6f1346c50"
      },
      "execution_count": 68,
      "outputs": [
        {
          "output_type": "stream",
          "name": "stdout",
          "text": [
            "<class 'numpy.ndarray'>\n",
            "Ảnh Gốc\n"
          ]
        },
        {
          "output_type": "display_data",
          "data": {
            "text/plain": [
              "<PIL.Image.Image image mode=L size=160x163>"
            ],
            "image/png": "[encoded data removed]"
          },
          "metadata": {}
        },
        {
          "output_type": "stream",
          "name": "stdout",
          "text": [
            "<class 'numpy.ndarray'>\n",
            "\n",
            "Ảnh Phân Đoạn theo ngưỡng thích nghi\n"
          ]
        },
        {
          "output_type": "display_data",
          "data": {
            "text/plain": [
              "<PIL.Image.Image image mode=L size=160x163>"
            ],
            "image/png": "[encoded data removed]"
          },
          "metadata": {}
        }
      ]
    }
  ]
}